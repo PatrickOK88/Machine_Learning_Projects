{
 "cells": [
  {
   "cell_type": "markdown",
   "metadata": {},
   "source": [
    "# Linear Regression - Death Rate Prediction\n",
    "\n",
    "## Disclaimer\n",
    "This was made for recreational use and should by no means be used as a means to prove the outcome of Death Rate for the human species.\n",
    "\n",
    "## Overview\n",
    "The objective of this project is to use linear regression to predict the Death Rate per 1,000 people in the world. The greadient boosting regressor will be used and this project will go step by step through each of the visualising each of the parameters to determine which values are best for the model.\n",
    "\n",
    "## Downloads\n",
    "For this project we will be using the spatial data provided on the [website](https://data.worldbank.org/indicator/SP.DYN.CDRT.IN?end=2016&start=1960&view=chart)"
   ]
  },
  {
   "cell_type": "markdown",
   "metadata": {},
   "source": [
    "Starting off by importing the required modules"
   ]
  },
  {
   "cell_type": "code",
   "execution_count": 1,
   "metadata": {},
   "outputs": [],
   "source": [
    "import pandas as pd\n",
    "import numpy as np\n",
    "from sklearn.model_selection import train_test_split\n",
    "from sklearn import ensemble\n",
    "from sklearn.metrics import mean_absolute_error\n",
    "from sklearn.externals import joblib\n",
    "import matplotlib as mpl\n",
    "import matplotlib.pyplot as plt\n",
    "from matplotlib.legend_handler import HandlerLine2D"
   ]
  },
  {
   "cell_type": "markdown",
   "metadata": {},
   "source": [
    "### Data Preparation"
   ]
  },
  {
   "cell_type": "markdown",
   "metadata": {},
   "source": [
    "Load the Death Rate data"
   ]
  },
  {
   "cell_type": "code",
   "execution_count": 2,
   "metadata": {},
   "outputs": [],
   "source": [
    "df = pd.read_csv(\"processed/Death_Rate.csv\")"
   ]
  },
  {
   "cell_type": "markdown",
   "metadata": {},
   "source": [
    "Check if there are any columns with missing data in our dataset"
   ]
  },
  {
   "cell_type": "code",
   "execution_count": 7,
   "metadata": {
    "scrolled": true
   },
   "outputs": [
    {
     "name": "stdout",
     "output_type": "stream",
     "text": [
      "['1961', '1963', '1964', '1965', '1967', '1968', '1969', '1981', '1982', '1983', '1984', '1985', '1986', '1987', '1988', '1990', '1993', '1995', '1997', '1998', '1999', '2000', '2001', '2003', '2004', '2006', '2008', '2009', '2010', '2011', '2012', '2013', '2014', '2015', '2016']\n"
     ]
    }
   ],
   "source": [
    "missing_val_before = [col for col in df.columns if df[col].isnull().any()]\n",
    "print(missing_val_before)"
   ]
  },
  {
   "cell_type": "markdown",
   "metadata": {},
   "source": [
    "Fill in missing values in our columns with the mean value\n",
    "Check for missing data again to make sure there is none"
   ]
  },
  {
   "cell_type": "code",
   "execution_count": 8,
   "metadata": {},
   "outputs": [
    {
     "name": "stdout",
     "output_type": "stream",
     "text": [
      "[]\n"
     ]
    }
   ],
   "source": [
    "for val in missing_val_before:\n",
    "    df[val] = df[val].fillna(df[val].mean())\n",
    "\n",
    "missing_val_after = [col for col in df.columns if df[col].isnull().any()]\n",
    "print(missing_val_after)"
   ]
  },
  {
   "cell_type": "markdown",
   "metadata": {},
   "source": [
    "### Feature engineering"
   ]
  },
  {
   "cell_type": "markdown",
   "metadata": {},
   "source": [
    "Starting off by removing columns that have no inherent value to the model"
   ]
  },
  {
   "cell_type": "code",
   "execution_count": 9,
   "metadata": {},
   "outputs": [],
   "source": [
    "del df['Country Code']\n",
    "del df['Indicator Name']\n",
    "del df['Indicator Code']"
   ]
  },
  {
   "cell_type": "markdown",
   "metadata": {},
   "source": [
    "Replace the country names with one-hot encoding"
   ]
  },
  {
   "cell_type": "code",
   "execution_count": 10,
   "metadata": {},
   "outputs": [],
   "source": [
    "features_df = pd.get_dummies(df, columns=['Country Name'])"
   ]
  },
  {
   "cell_type": "markdown",
   "metadata": {},
   "source": [
    "Remove the final column form the data set as this is the data we want to predict."
   ]
  },
  {
   "cell_type": "code",
   "execution_count": 11,
   "metadata": {},
   "outputs": [],
   "source": [
    "del features_df['2016']"
   ]
  },
  {
   "cell_type": "markdown",
   "metadata": {},
   "source": [
    "### Training the model"
   ]
  },
  {
   "cell_type": "markdown",
   "metadata": {},
   "source": [
    "Create the X and y array. X being the input data and y being the output/predicted data."
   ]
  },
  {
   "cell_type": "code",
   "execution_count": 12,
   "metadata": {},
   "outputs": [],
   "source": [
    "X = features_df.to_numpy()\n",
    "y = df['2016'].to_numpy()"
   ]
  },
  {
   "cell_type": "markdown",
   "metadata": {},
   "source": [
    "Cross validation will be used in the model.  \n",
    "Split the data set in a training set (70%) and a test set (30%)"
   ]
  },
  {
   "cell_type": "code",
   "execution_count": 13,
   "metadata": {},
   "outputs": [],
   "source": [
    "X_train, X_test, y_train, y_test = train_test_split(X, y, test_size=0.3, random_state=0)"
   ]
  },
  {
   "cell_type": "markdown",
   "metadata": {},
   "source": [
    "Use the default GradientBoosting Regressor with verbose = 1 to see output"
   ]
  },
  {
   "cell_type": "code",
   "execution_count": 14,
   "metadata": {},
   "outputs": [],
   "source": [
    "model_1 = ensemble.GradientBoostingRegressor(\n",
    "    verbose=1\n",
    ")"
   ]
  },
  {
   "cell_type": "markdown",
   "metadata": {},
   "source": [
    "Train the model"
   ]
  },
  {
   "cell_type": "code",
   "execution_count": 15,
   "metadata": {},
   "outputs": [
    {
     "name": "stdout",
     "output_type": "stream",
     "text": [
      "      Iter       Train Loss   Remaining Time \n",
      "         1           4.8319            0.20s\n",
      "         2           3.9461            0.20s\n",
      "         3           3.2245            0.23s\n",
      "         4           2.6329            0.22s\n",
      "         5           2.1513            0.21s\n",
      "         6           1.7569            0.20s\n",
      "         7           1.4371            0.19s\n",
      "         8           1.1742            0.18s\n",
      "         9           0.9621            0.18s\n",
      "        10           0.7879            0.18s\n",
      "        20           0.1146            0.15s\n",
      "        30           0.0219            0.13s\n",
      "        40           0.0065            0.10s\n",
      "        50           0.0031            0.08s\n",
      "        60           0.0020            0.06s\n",
      "        70           0.0016            0.05s\n",
      "        80           0.0013            0.03s\n",
      "        90           0.0011            0.01s\n",
      "       100           0.0010            0.00s\n"
     ]
    },
    {
     "data": {
      "text/plain": [
       "GradientBoostingRegressor(alpha=0.9, criterion='friedman_mse', init=None,\n",
       "             learning_rate=0.1, loss='ls', max_depth=3, max_features=None,\n",
       "             max_leaf_nodes=None, min_impurity_decrease=0.0,\n",
       "             min_impurity_split=None, min_samples_leaf=1,\n",
       "             min_samples_split=2, min_weight_fraction_leaf=0.0,\n",
       "             n_estimators=100, n_iter_no_change=None, presort='auto',\n",
       "             random_state=None, subsample=1.0, tol=0.0001,\n",
       "             validation_fraction=0.1, verbose=1, warm_start=False)"
      ]
     },
     "execution_count": 15,
     "metadata": {},
     "output_type": "execute_result"
    }
   ],
   "source": [
    "model_1.fit(X_train, y_train)"
   ]
  },
  {
   "cell_type": "markdown",
   "metadata": {},
   "source": [
    "### Error rate - Mean Absolute Error"
   ]
  },
  {
   "cell_type": "markdown",
   "metadata": {},
   "source": [
    "Measuring the model's accuracy using the MAE loss function as this is most often used in regression models.  \n",
    "MAE is the sum of absolute differences between our target and predicted variables.    \n",
    "I'll be getting the mase of the train data and the test data"
   ]
  },
  {
   "cell_type": "code",
   "execution_count": 16,
   "metadata": {},
   "outputs": [
    {
     "name": "stdout",
     "output_type": "stream",
     "text": [
      "Training Set Mean Absolute Error: 0.0262\n",
      "Test Set Mean Absolute Error: 0.1330\n"
     ]
    }
   ],
   "source": [
    "train_mae = mean_absolute_error(y_train, model_1.predict(X_train))\n",
    "print(\"Training Set Mean Absolute Error: %.4f\" % train_mae)\n",
    "\n",
    "test_mae = mean_absolute_error(y_test, model_1.predict(X_test))\n",
    "print(\"Test Set Mean Absolute Error: %.4f\" % test_mae)"
   ]
  },
  {
   "cell_type": "markdown",
   "metadata": {},
   "source": [
    "##  Analysis"
   ]
  },
  {
   "cell_type": "markdown",
   "metadata": {},
   "source": [
    "As you can see there is a alittle bit of a difference between the __Train set__ MAE and the __Test set__ MAE.  \n",
    "Going by these results it's pretty clear that the model is overfitting our data.  \n",
    "I'll go down through each of the paramters of the GradientBoosting Regressor to see what's going on.  \n",
    "Think of model evaluation in four different categories:\n",
    "- Underfitting  – Validation(Test) and training error high\n",
    "- Overfitting   – Validation(Test) error is high, training error low\n",
    "- Good fit      – Validation(Test) error low, slightly higher than the training error\n",
    "- Unknown fit   - Validation(Test) error low, training error 'high'"
   ]
  },
  {
   "cell_type": "markdown",
   "metadata": {},
   "source": [
    "### Gradient Boosting Regressor"
   ]
  },
  {
   "cell_type": "markdown",
   "metadata": {},
   "source": [
    "*Gradient boosting is a machine learning technique for regression and classification problems, which produces a prediction model in the form of an ensemble of weak prediction models, typically decision trees.*  (Wikipedia definition)  \n",
    "The [Scikit-learn website](https://scikit-learn.org/stable/modules/generated/sklearn.ensemble.GradientBoostingRegressor.html) was used when obtaining information on the Gradient Boosting Regressor parameters"
   ]
  },
  {
   "cell_type": "code",
   "execution_count": 17,
   "metadata": {},
   "outputs": [
    {
     "name": "stdout",
     "output_type": "stream",
     "text": [
      "      Iter       Train Loss   Remaining Time \n",
      "         1           4.8319            0.10s\n",
      "         2           3.9461            0.20s\n",
      "         3           3.2245            0.19s\n",
      "         4           2.6329            0.22s\n",
      "         5           2.1513            0.19s\n",
      "         6           1.7569            0.19s\n",
      "         7           1.4371            0.19s\n",
      "         8           1.1742            0.18s\n",
      "         9           0.9621            0.17s\n",
      "        10           0.7879            0.17s\n",
      "        20           0.1146            0.14s\n",
      "        30           0.0219            0.12s\n",
      "        40           0.0065            0.10s\n",
      "        50           0.0031            0.08s\n",
      "        60           0.0020            0.06s\n",
      "        70           0.0016            0.05s\n",
      "        80           0.0013            0.03s\n",
      "        90           0.0011            0.01s\n",
      "       100           0.0010            0.00s\n"
     ]
    },
    {
     "data": {
      "text/plain": [
       "GradientBoostingRegressor(alpha=0.9, criterion='friedman_mse', init=None,\n",
       "             learning_rate=0.1, loss='ls', max_depth=3, max_features=None,\n",
       "             max_leaf_nodes=None, min_impurity_decrease=0.0,\n",
       "             min_impurity_split=None, min_samples_leaf=1,\n",
       "             min_samples_split=2, min_weight_fraction_leaf=0.0,\n",
       "             n_estimators=100, n_iter_no_change=None, presort='auto',\n",
       "             random_state=None, subsample=1.0, tol=0.0001,\n",
       "             validation_fraction=0.1, verbose=1, warm_start=False)"
      ]
     },
     "execution_count": 17,
     "metadata": {},
     "output_type": "execute_result"
    }
   ],
   "source": [
    "model_2 = ensemble.GradientBoostingRegressor(verbose=1)\n",
    "model_2.fit(X_train, y_train)"
   ]
  },
  {
   "cell_type": "markdown",
   "metadata": {},
   "source": [
    "#### Learning Rate"
   ]
  },
  {
   "cell_type": "markdown",
   "metadata": {},
   "source": [
    "Learning rate shrinks the contribution of each tree by learning_rate.  There is a trade-off between learning_rate and n_estimators.  \n",
    "A large learning rate allows the model to learn faster, at the cost of arriving on a sub-optimal final set of weights.  \n",
    "A smaller learning rate may allow the model to learn a more optimal or even globally optimal set of weights\n",
    "but may take significantly longer to train."
   ]
  },
  {
   "cell_type": "code",
   "execution_count": 246,
   "metadata": {},
   "outputs": [
    {
     "name": "stdout",
     "output_type": "stream",
     "text": [
      "Plotting Learning Rate against MAE score\n"
     ]
    },
    {
     "data": {
      "image/png": "[encoded data removed]",
      "text/plain": [
       "<Figure size 432x288 with 1 Axes>"
      ]
     },
     "metadata": {
      "needs_background": "light"
     },
     "output_type": "display_data"
    }
   ],
   "source": [
    "learning_rates = [0.01, 0.03, 0.05, 0.1, 0.3, 0.5, 1.0]\n",
    "train_results = []\n",
    "test_results = []\n",
    "\n",
    "for lr in learning_rates:\n",
    "    model_2 = ensemble.GradientBoostingRegressor(learning_rate=lr)\n",
    "    model_2.fit(X_train, y_train)\n",
    "\n",
    "    train_pred = model_2.predict(X_train)\n",
    "    train_mae = mean_absolute_error(y_train, train_pred)\n",
    "    train_results.append(train_mae)\n",
    "\n",
    "    y_pred = model_2.predict(X_test)\n",
    "    test_mae = mean_absolute_error(y_test, y_pred)\n",
    "    test_results.append(test_mae)\n",
    "\n",
    "print(\"Plotting Learning Rate against MAE score\")\n",
    "\n",
    "line1, = plt.plot(learning_rates, train_results, 'b', label=\"Train MAE\")\n",
    "line2, = plt.plot(learning_rates, test_results, 'r', label=\"Test MAE\")\n",
    "plt.legend(handler_map={line1: HandlerLine2D(numpoints=2)})\n",
    "plt.ylabel('MAE score')\n",
    "plt.xlabel('learning rate')\n",
    "plt.show()"
   ]
  },
  {
   "cell_type": "markdown",
   "metadata": {},
   "source": [
    "As seen above that the larger the learning rate the more it overfits.   Therefore a smaller learning rate is the most optimal solution as it seems witha larger learning rate it doesn't seem to converge for the test data set.  \n",
    "So a value of 0.03 or 0.06 looks good for our model."
   ]
  },
  {
   "cell_type": "markdown",
   "metadata": {},
   "source": [
    "#### n Estimators"
   ]
  },
  {
   "cell_type": "markdown",
   "metadata": {},
   "source": [
    "The number of boosting stages to perform. Gradient boosting is fairly robust to over-fitting so a large number usually results in better performance. However a higher value can also have the effect of slowing down the training process so a value with optimal speed while being able to fit the data well will be best."
   ]
  },
  {
   "cell_type": "code",
   "execution_count": 247,
   "metadata": {},
   "outputs": [
    {
     "name": "stdout",
     "output_type": "stream",
     "text": [
      "Plotting n_estimators against MAE score\n"
     ]
    },
    {
     "data": {
      "image/png": "[encoded data removed]",
      "text/plain": [
       "<Figure size 432x288 with 1 Axes>"
      ]
     },
     "metadata": {
      "needs_background": "light"
     },
     "output_type": "display_data"
    }
   ],
   "source": [
    "n_estimators = [1, 2, 4, 8, 16, 32, 64, 128]\n",
    "train_results = []\n",
    "test_results = []\n",
    "\n",
    "for estimator in n_estimators:\n",
    "    model_2 = ensemble.GradientBoostingRegressor(n_estimators=estimator)\n",
    "    model_2.fit(X_train, y_train)\n",
    "\n",
    "    train_pred = model_2.predict(X_train)\n",
    "    train_mae = mean_absolute_error(y_train, train_pred)\n",
    "    train_results.append(train_mae)\n",
    "\n",
    "    y_pred = model_2.predict(X_test)\n",
    "    test_mae = mean_absolute_error(y_test, y_pred)\n",
    "    test_results.append(test_mae)\n",
    "\n",
    "print(\"Plotting n_estimators against MAE score\")\n",
    "\n",
    "line1, = plt.plot(n_estimators, train_results, 'b', label=\"Train MAE\")\n",
    "line2, = plt.plot(n_estimators, test_results, 'r', label=\"Test MAE\")\n",
    "plt.legend(handler_map={line1: HandlerLine2D(numpoints=2)})\n",
    "plt.ylabel('MAE score')\n",
    "plt.xlabel('n_estimators')\n",
    "plt.show()"
   ]
  },
  {
   "cell_type": "markdown",
   "metadata": {},
   "source": [
    "The test and the train MAE look to be decreasing at a similar rate.  \n",
    "The most optimal value here seems to be 32 or 64."
   ]
  },
  {
   "cell_type": "markdown",
   "metadata": {},
   "source": [
    "#### Min Samples Split"
   ]
  },
  {
   "cell_type": "markdown",
   "metadata": {},
   "source": [
    "The minimum number of samples required to split an internal node.  \n",
    "Increasing this value can make the tree more constrained."
   ]
  },
  {
   "cell_type": "code",
   "execution_count": 248,
   "metadata": {},
   "outputs": [
    {
     "name": "stdout",
     "output_type": "stream",
     "text": [
      "Plotting min_samples_split against MAE score\n"
     ]
    },
    {
     "data": {
      "image/png": "[encoded data removed]",
      "text/plain": [
       "<Figure size 432x288 with 1 Axes>"
      ]
     },
     "metadata": {
      "needs_background": "light"
     },
     "output_type": "display_data"
    }
   ],
   "source": [
    "min_samples_splits = [0.1, 0.2, 0.3, 0.4, 0.5, 0.6, 0.7, 0.8, 0.9, 1.0]\n",
    "train_results = []\n",
    "test_results = []\n",
    "\n",
    "for min_samples_split in min_samples_splits:\n",
    "    model_2 = ensemble.GradientBoostingRegressor(min_samples_split=min_samples_split)\n",
    "    model_2.fit(X_train, y_train)\n",
    "\n",
    "    train_pred = model_2.predict(X_train)\n",
    "    train_mae = mean_absolute_error(y_train, train_pred)\n",
    "    train_results.append(train_mae)\n",
    "\n",
    "    y_pred = model_2.predict(X_test)\n",
    "    test_mae = mean_absolute_error(y_test, y_pred)\n",
    "    test_results.append(test_mae)\n",
    "\n",
    "print(\"Plotting min_samples_split against MAE score\")\n",
    "\n",
    "line1, = plt.plot(min_samples_splits, train_results, 'b', label=\"Train MAE\")\n",
    "line2, = plt.plot(min_samples_splits, test_results, 'r', label=\"Test MAE\")\n",
    "plt.legend(handler_map={line1: HandlerLine2D(numpoints=2)})\n",
    "plt.ylabel('MAE score')\n",
    "plt.xlabel('min_samples_split')\n",
    "plt.show()"
   ]
  },
  {
   "cell_type": "markdown",
   "metadata": {},
   "source": [
    "It seems that the model is overfitting with the higher value of min_samples_split as the MAE is both increasing for the train and test MAE.  \n",
    "A value of either 0.3 or 0.7 seem to be best here."
   ]
  },
  {
   "cell_type": "markdown",
   "metadata": {},
   "source": [
    "#### Min Samples Leaf"
   ]
  },
  {
   "cell_type": "markdown",
   "metadata": {},
   "source": [
    "The minimum number of samples required to be at a leaf node. A split point at any depth will only be considered if it leaves at least min_samples_leaf training samples in each of the left and right branches. This may have the effect of smoothing the model, especially in regression."
   ]
  },
  {
   "cell_type": "code",
   "execution_count": 251,
   "metadata": {},
   "outputs": [
    {
     "name": "stdout",
     "output_type": "stream",
     "text": [
      "Plotting min_samples_leaf against MAE score\n"
     ]
    },
    {
     "data": {
      "image/png": "[encoded data removed]",
      "text/plain": [
       "<Figure size 432x288 with 1 Axes>"
      ]
     },
     "metadata": {
      "needs_background": "light"
     },
     "output_type": "display_data"
    }
   ],
   "source": [
    "min_samples_leaves = [0.1, 0.2, 0.3, 0.4, 0.5]\n",
    "#min_samples_leaves = [1, 3, 5, 10, 15, 20, 25, 30, 35, 40, 45, 50]\n",
    "train_results = []\n",
    "test_results = []\n",
    "\n",
    "for min_samples_leaf in min_samples_leaves:\n",
    "    model_2 = ensemble.GradientBoostingRegressor(min_samples_leaf=min_samples_leaf)\n",
    "    model_2.fit(X_train, y_train)\n",
    "\n",
    "    train_pred = model_2.predict(X_train)\n",
    "    train_mae = mean_absolute_error(y_train, train_pred)\n",
    "    train_results.append(train_mae)\n",
    "\n",
    "    y_pred = model_2.predict(X_test)\n",
    "    test_mae = mean_absolute_error(y_test, y_pred)\n",
    "    test_results.append(test_mae)\n",
    "\n",
    "print(\"Plotting min_samples_leaf against MAE score\")\n",
    "\n",
    "line1, = plt.plot(min_samples_leaves, train_results, 'b', label=\"Train MAE\")\n",
    "line2, = plt.plot(min_samples_leaves, test_results, 'r', label=\"Test MAE\")\n",
    "plt.legend(handler_map={line1: HandlerLine2D(numpoints=2)})\n",
    "plt.ylabel('MAE score')\n",
    "plt.xlabel('min_samples_leaf')\n",
    "plt.show()\n",
    "#"
   ]
  },
  {
   "cell_type": "markdown",
   "metadata": {},
   "source": [
    "Going from the graph there's a drastic increase in the train and test MAE error after using a value of 0.3 so that's probably the best value to choose."
   ]
  },
  {
   "cell_type": "markdown",
   "metadata": {},
   "source": [
    "#### Max Depths"
   ]
  },
  {
   "cell_type": "markdown",
   "metadata": {},
   "source": [
    "Maximum depth of the individual regression estimators. The maximum depth limits the number of nodes in the tree. Tune this parameter for best performance; the best value depends on the interaction of the input variables."
   ]
  },
  {
   "cell_type": "code",
   "execution_count": 252,
   "metadata": {},
   "outputs": [
    {
     "name": "stdout",
     "output_type": "stream",
     "text": [
      "Plotting max_depths against MAE score\n"
     ]
    },
    {
     "data": {
      "image/png": "[encoded data removed]",
      "text/plain": [
       "<Figure size 432x288 with 1 Axes>"
      ]
     },
     "metadata": {
      "needs_background": "light"
     },
     "output_type": "display_data"
    }
   ],
   "source": [
    "max_depths = [1, 3, 5, 10, 20]\n",
    "train_results = []\n",
    "test_results = []\n",
    "\n",
    "for max_depth in max_depths:\n",
    "    model_2 = ensemble.GradientBoostingRegressor(max_depth=max_depth)\n",
    "    model_2.fit(X_train, y_train)\n",
    "\n",
    "    train_pred = model_2.predict(X_train)\n",
    "    train_mae = mean_absolute_error(y_train, train_pred)\n",
    "    train_results.append(train_mae)\n",
    "\n",
    "    y_pred = model_2.predict(X_test)\n",
    "    test_mae = mean_absolute_error(y_test, y_pred)\n",
    "    test_results.append(test_mae)\n",
    "\n",
    "print(\"Plotting max_depths against MAE score\")\n",
    "\n",
    "line1, = plt.plot(max_depths, train_results, 'b', label=\"Train MAE\")\n",
    "line2, = plt.plot(max_depths, test_results, 'r', label=\"Test MAE\")\n",
    "plt.legend(handler_map={line1: HandlerLine2D(numpoints=2)})\n",
    "plt.ylabel('MAE score')\n",
    "plt.xlabel('max_depths')\n",
    "plt.show()"
   ]
  },
  {
   "cell_type": "markdown",
   "metadata": {},
   "source": [
    "The model is quite clearly overfittting for larger depth values. The tree perfectly predicts all of the train data, however, it fails to generalize the findings for new data.  \n",
    "In this case a value of 5 seems best as that's where both the train data and the test data are at their lowest points."
   ]
  },
  {
   "cell_type": "markdown",
   "metadata": {},
   "source": [
    "#### Max Features"
   ]
  },
  {
   "cell_type": "markdown",
   "metadata": {},
   "source": [
    "The number of features to consider when looking for the best split.  \n",
    "Choosing max_features < n_features leads to a reduction of variance and an increase in bias."
   ]
  },
  {
   "cell_type": "code",
   "execution_count": 158,
   "metadata": {},
   "outputs": [
    {
     "name": "stdout",
     "output_type": "stream",
     "text": [
      "Plotting max_features against MAE score\n"
     ]
    },
    {
     "data": {
      "image/png": "[encoded data removed]",
      "text/plain": [
       "<Figure size 432x288 with 1 Axes>"
      ]
     },
     "metadata": {
      "needs_background": "light"
     },
     "output_type": "display_data"
    }
   ],
   "source": [
    "max_features = [1, 2, 4, 8, 16, 32, 64, 128]\n",
    "train_results = []\n",
    "test_results = []\n",
    "\n",
    "for max_feature in max_features:\n",
    "    model_2 = ensemble.GradientBoostingRegressor(max_features=max_feature)\n",
    "    model_2.fit(X_train, y_train)\n",
    "\n",
    "    train_pred = model_2.predict(X_train)\n",
    "    train_mae = mean_absolute_error(y_train, train_pred)\n",
    "    train_results.append(train_mae)\n",
    "\n",
    "    y_pred = model_2.predict(X_test)\n",
    "    test_mae = mean_absolute_error(y_test, y_pred)\n",
    "    test_results.append(test_mae)\n",
    "\n",
    "print(\"Plotting max_features against MAE score\")\n",
    "\n",
    "line1, = plt.plot(max_features, train_results, 'b', label=\"Train MAE\")\n",
    "line2, = plt.plot(max_features, test_results, 'r', label=\"Test MAE\")\n",
    "plt.legend(handler_map={line1: HandlerLine2D(numpoints=2)})\n",
    "plt.ylabel('MAE score')\n",
    "plt.xlabel('max_features')\n",
    "plt.show()"
   ]
  },
  {
   "cell_type": "markdown",
   "metadata": {},
   "source": [
    "Having a high value for this can lead to overfitting which can be observed in the graph.\n",
    "A value of 20 seems to be optimal value to use."
   ]
  },
  {
   "cell_type": "markdown",
   "metadata": {},
   "source": [
    "### Results"
   ]
  },
  {
   "cell_type": "markdown",
   "metadata": {},
   "source": [
    "By inputting the values gathered from the analysis of the graphs above, the result should be a better overall MAE compared to our original MAE."
   ]
  },
  {
   "cell_type": "code",
   "execution_count": 311,
   "metadata": {
    "scrolled": true
   },
   "outputs": [
    {
     "name": "stdout",
     "output_type": "stream",
     "text": [
      "      Iter       Train Loss   Remaining Time \n",
      "         1           5.4944            0.03s\n",
      "         2           5.0924            0.03s\n",
      "         3           4.7352            0.03s\n",
      "         4           4.4066            0.03s\n",
      "         5           4.1214            0.02s\n",
      "         6           3.8513            0.02s\n",
      "         7           3.6072            0.02s\n",
      "         8           3.3864            0.02s\n",
      "         9           3.2219            0.02s\n",
      "        10           3.0370            0.02s\n",
      "        20           1.9358            0.01s\n",
      "        30           1.4867            0.00s\n",
      "Training Set Mean Absolute Error: 0.723\n",
      "Test Set Mean Absolute Error: 0.740\n"
     ]
    }
   ],
   "source": [
    "model_3 = ensemble.GradientBoostingRegressor(\n",
    "    learning_rate = 0.05,\n",
    "    n_estimators = 32,\n",
    "    min_samples_split = 0.3,\n",
    "    min_samples_leaf = 0.3,\n",
    "    max_depth = 5,\n",
    "    max_features = 'auto', \n",
    "    verbose = 1\n",
    ")\n",
    "\n",
    "model_3.fit(X_train, y_train)\n",
    "\n",
    "train_mae = mean_absolute_error(y_train, model_3.predict(X_train))\n",
    "print(\"Training Set Mean Absolute Error: %.3f\" % train_mae)\n",
    "\n",
    "test_mae = mean_absolute_error(y_test, model_3.predict(X_test))\n",
    "print(\"Test Set Mean Absolute Error: %.3f\" % test_mae)\n",
    "\n",
    "# Expected results:\n",
    "# Training Set Mean Absolute Error: 0.723\n",
    "# Test Set Mean Absolute Error: 0.740"
   ]
  },
  {
   "cell_type": "markdown",
   "metadata": {},
   "source": [
    "There is quite a bit of improvement over the initial model with the default values. There is no longer overfitting happening and as the Validation(Test) error is low yet slightly higher than the training error.  \n",
    "An optimal fit has now been achieved in the model."
   ]
  },
  {
   "cell_type": "markdown",
   "metadata": {},
   "source": [
    "### Extra"
   ]
  },
  {
   "cell_type": "markdown",
   "metadata": {},
   "source": [
    "If you run the file _gridsearch.py_, it will output the parameters with the \"best\" results for the train set MAE and the test set MAE"
   ]
  },
  {
   "cell_type": "code",
   "execution_count": 312,
   "metadata": {},
   "outputs": [
    {
     "name": "stdout",
     "output_type": "stream",
     "text": [
      "      Iter       Train Loss   Remaining Time \n",
      "         1           2.9671            0.13s\n",
      "         2           1.5021            0.15s\n",
      "         3           0.7695            0.16s\n",
      "         4           0.3905            0.15s\n",
      "         5           0.1955            0.14s\n",
      "         6           0.0997            0.14s\n",
      "         7           0.0517            0.14s\n",
      "         8           0.0272            0.14s\n",
      "         9           0.0146            0.14s\n",
      "        10           0.0078            0.15s\n",
      "        20           0.0000            0.14s\n",
      "        30           0.0000            0.13s\n",
      "        40           0.0000            0.09s\n",
      "        50           0.0000            0.04s\n",
      "        60           0.0000            0.01s\n",
      "Training Set Mean Absolute Error: 0.000\n",
      "Test Set Mean Absolute Error: 0.127\n"
     ]
    }
   ],
   "source": [
    "# #overfitting values\n",
    "model_4 = ensemble.GradientBoostingRegressor(\n",
    "    learning_rate = 0.3, \n",
    "    max_depth = 20, \n",
    "    max_features = 'auto', \n",
    "    min_samples_leaf = 1, \n",
    "    min_samples_split = 0.1, \n",
    "    n_estimators = 64, \n",
    "    verbose = 1)\n",
    "\n",
    "model_4.fit(X_train, y_train)\n",
    "\n",
    "train_mae = mean_absolute_error(y_train, model_4.predict(X_train))\n",
    "print(\"Training Set Mean Absolute Error: %.3f\" % train_mae)\n",
    "\n",
    "test_mae = mean_absolute_error(y_test, model_4.predict(X_test))\n",
    "print(\"Test Set Mean Absolute Error: %.3f\" % test_mae)\n",
    "# Training Set Mean Absolute Error: 0.0003\n",
    "# Test Set Mean Absolute Error: 0.1357"
   ]
  },
  {
   "cell_type": "markdown",
   "metadata": {},
   "source": [
    "While this does look good initially you have to take a step back and realise what these values mean.  \n",
    "The test set is virtually 0 while the test set has an error, which ultimately means that this set of parameters overfits the model"
   ]
  },
  {
   "cell_type": "code",
   "execution_count": null,
   "metadata": {},
   "outputs": [],
   "source": []
  }
 ],
 "metadata": {
  "kernelspec": {
   "display_name": "Python 3",
   "language": "python",
   "name": "python3"
  },
  "language_info": {
   "codemirror_mode": {
    "name": "ipython",
    "version": 3
   },
   "file_extension": ".py",
   "mimetype": "text/x-python",
   "name": "python",
   "nbconvert_exporter": "python",
   "pygments_lexer": "ipython3",
   "version": "3.7.1"
  }
 },
 "nbformat": 4,
 "nbformat_minor": 2
}
